{
 "cells": [
  {
   "cell_type": "code",
   "execution_count": null,
   "metadata": {},
   "outputs": [],
   "source": [
    "import matplotlib\n",
    "import socket\n",
    "\n",
    "if socket.gethostname() == \"C02Z85AULVDC\":\n",
    "    matplotlib.use(\"macosx\")\n",
    "\n",
    "from pathlib import Path\n",
    "import flexiznam as fzm\n",
    "import bg_space as bgs\n",
    "import bg_atlasapi as bga\n",
    "import matplotlib.pyplot as plt\n",
    "import itk\n",
    "import numpy as np\n",
    "from napari.viewer import Viewer\n",
    "from brainglobe_napari_io.cellfinder import reader_xml\n",
    "import tifffile\n",
    "\n",
    "from cricksaw_analysis import atlas_utils\n",
    "\n",
    "PROCESSED = Path(\"/camp/lab/znamenskiyp/home/shared/projects\")\n",
    "PROJECT = \"hey2_3d-vision_foodres_20220101\"\n",
    "MOUSE = \"PZAH6.4b\"\n",
    "REGISTRATION = \"brainreg\"\n",
    "ATLAS_SIZE = 10\n",
    "PEELED_SAVE_PATH = None\n",
    "PROJECTION = \"max\"\n",
    "SAVE_SVG = False\n",
    "\n",
    "if REGISTRATION == \"brainreg\":\n",
    "    DATA_FOLDER = PROCESSED / PROJECT / MOUSE / \"brainreg_results\" / \"from_downsampled\"\n",
    "    imgs_path = dict(\n",
    "        red=Path(DATA_FOLDER) / \"downsampled_standard.tiff\",\n",
    "        blue=None,\n",
    "        green=Path(DATA_FOLDER) / \"downsampled_standard_2.tiff\",\n",
    "    )\n",
    "    ATLAS_ANNOTATION = None\n",
    "elif REGISTRATION == \"elastix\":\n",
    "    DATA_FOLDER = PROCESSED / PROJECT / MOUSE / \"registration_10\"\n",
    "    imgs_path = dict(\n",
    "        red=None,\n",
    "        blue=None,\n",
    "        green=Path(DATA_FOLDER)\n",
    "        / (\"%ss_inverse_reg__elastix_out_step01\" % MOUSE)\n",
    "        / (\"%ss_inverse_reg__registration_step01.mhd\" % MOUSE),\n",
    "    )\n",
    "    resource_folder = Path(\"/camp/lab/znamenskiyp/home/shared/resources\")\n",
    "    atlas_resource = resource_folder / \"cellfinder_resources/ARA_CCFv3\"\n",
    "    ATLAS_ANNOTATION = atlas_resource / (\"ARA_%d_micron_mhd/atlas.mhd\" % ATLAS_SIZE)\n",
    "else:\n",
    "    raise IOError(\"Registration must be `brainreg` or `elastix`\")\n",
    "\n",
    "\n",
    "PATH_TO_SAVE = DATA_FOLDER / \"dorsal_view\"\n",
    "ATLAS_NAME = \"allen_mouse_%dum\" % ATLAS_SIZE\n",
    "NAPARI = False\n",
    "\n",
    "projs = dict(max=np.maximum, min=np.minimum, mean=np.add, sum=np.add)\n",
    "projection_function = projs[PROJECTION.lower()]\n",
    "\n",
    "if not PATH_TO_SAVE.is_dir():\n",
    "    PATH_TO_SAVE.mkdir()\n",
    "\n",
    "# do that first to crash early if there is a display issue\n",
    "if NAPARI:\n",
    "    viewer = Viewer()\n",
    "\n",
    "PATH_TO_SAVE = Path(PATH_TO_SAVE)\n",
    "# make sure it exists\n",
    "PATH_TO_SAVE.mkdir(exist_ok=True)\n",
    "\n",
    "print(\"Loading atlas\")\n",
    "bg_atlas = bga.bg_atlas.BrainGlobeAtlas(ATLAS_NAME)\n",
    "\n",
    "# find layers\n",
    "ctx_df = atlas_utils.create_ctx_table(bg_atlas)\n",
    "layers = [\"surface\", \"1\", \"2/3\", \"4\", \"5\", \"6a\", \"6b\"]\n",
    "if ATLAS_ANNOTATION is None:\n",
    "    atlas_annot = bg_atlas.annotation\n",
    "else:\n",
    "    atlas_annot = itk.array_from_image(itk.imread(ATLAS_ANNOTATION))"
   ]
  },
  {
   "cell_type": "code",
   "execution_count": null,
   "metadata": {},
   "outputs": [],
   "source": [
    "# get registered data\n",
    "print(\"Loading img data\")\n",
    "image_volumes = dict()\n",
    "for col, pa in imgs_path.items():\n",
    "    if pa is None:\n",
    "        continue\n",
    "    print(\"   loading %s channel\" % col)\n",
    "    image_volumes[col] = itk.array_from_image(itk.imread(str(pa)))"
   ]
  },
  {
   "cell_type": "code",
   "execution_count": null,
   "metadata": {},
   "outputs": [],
   "source": [
    "quant = np.quantile(\n",
    "    image_volumes[\"green\"][image_volumes[\"green\"] != 0], [1e-4, 1e-3, 1e-2, 0.1, 0.9]\n",
    ")\n",
    "print(quant)"
   ]
  },
  {
   "cell_type": "code",
   "execution_count": null,
   "metadata": {},
   "outputs": [],
   "source": [
    "threshold = 2\n",
    "thresh_data = np.zeros_like(image_volumes[\"green\"])\n",
    "mask = image_volumes[\"green\"] > threshold\n",
    "thresh_data[mask] = image_volumes[\"green\"][mask]\n",
    "data_from_top = atlas_utils.external_view(\n",
    "    thresh_data, axis=\"dorsal\", border_only=False, get_index=True, which=\"first\"\n",
    ")\n",
    "plt.imshow(data_from_top)\n",
    "plt.colorbar()"
   ]
  }
 ],
 "metadata": {
  "kernelspec": {
   "display_name": "Python 3.9.7 ('cellfinder')",
   "language": "python",
   "name": "python3"
  },
  "language_info": {
   "codemirror_mode": {
    "name": "ipython",
    "version": 3
   },
   "file_extension": ".py",
   "mimetype": "text/x-python",
   "name": "python",
   "nbconvert_exporter": "python",
   "pygments_lexer": "ipython3",
   "version": "3.9.7"
  },
  "orig_nbformat": 4,
  "vscode": {
   "interpreter": {
    "hash": "9db575073ce6211babe165461dd3501d67351a32cde458838d1a888c110a8f73"
   }
  }
 },
 "nbformat": 4,
 "nbformat_minor": 2
}
